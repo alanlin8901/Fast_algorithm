{
 "cells": [
  {
   "cell_type": "markdown",
   "metadata": {},
   "source": [
    "# INITIALIZATION"
   ]
  },
  {
   "cell_type": "code",
   "execution_count": 7,
   "metadata": {},
   "outputs": [],
   "source": [
    "# Generator\n",
    "import networkx as nx\n",
    "import random\n",
    "\n",
    "def generate_random_graph(num_nodes, num_edges, graph_type=\"random\"):\n",
    "    \"\"\"\n",
    "    Generates a graph with random edges.\n",
    "    :param num_nodes: Number of nodes in the graph\n",
    "    :param num_edges: Number of edges in the graph\n",
    "    :param graph_type: Type of graph (\"random\", \"complete\", \"cycle\", etc.)\n",
    "    :return: A NetworkX graph\n",
    "    \"\"\"\n",
    "    if graph_type == \"random\":\n",
    "        G = nx.gnm_random_graph(num_nodes, num_edges)\n",
    "    elif graph_type == \"complete\":\n",
    "        G = nx.complete_graph(num_nodes)\n",
    "    elif graph_type == \"cycle\":\n",
    "        G = nx.cycle_graph(num_nodes)\n",
    "    elif graph_type == \"star\":\n",
    "        G = nx.star_graph(num_nodes - 1)  # Subtract 1 for center node\n",
    "    else:\n",
    "        raise ValueError(f\"Unknown graph type: {graph_type}\")\n",
    "    \n",
    "    return G\n",
    "\n",
    "def save_graph_to_file(graph, filename=\"graph.txt\"):\n",
    "    \"\"\"\n",
    "    Saves the graph's edges to a file in the format:\n",
    "    node1 node2\n",
    "    :param graph: A NetworkX graph\n",
    "    :param filename: Output filename\n",
    "    \"\"\"\n",
    "    with open(filename, 'w') as f:\n",
    "        for u, v in graph.edges():\n",
    "            f.write(f\"{u + 1} {v + 1}\\n\")  # Writing 1-indexed nodes\n",
    "\n",
    "# Example Usage:\n",
    "num_nodes = 500  # Number of nodes\n",
    "num_edges = 10000  # Number of edges\n",
    "graph_type = \"random\"  # Can be \"random\", \"complete\", \"cycle\", or \"star\"\n",
    "G = generate_random_graph(num_nodes, num_edges, graph_type)\n",
    "save_graph_to_file(G, \"syn_random.mtx\")\n",
    "graph_type = \"complete\"  # Can be \"random\", \"complete\", \"cycle\", or \"star\"\n",
    "G = generate_random_graph(num_nodes, num_edges, graph_type)\n",
    "save_graph_to_file(G, \"syn_complete.mtx\")\n",
    "graph_type = \"cycle\"  # Can be \"random\", \"complete\", \"cycle\", or \"star\"\n",
    "G = generate_random_graph(num_nodes, num_edges, graph_type)\n",
    "save_graph_to_file(G, \"syn_cycle.mtx\")\n",
    "graph_type = \"star\"  # Can be \"random\", \"complete\", \"cycle\", or \"star\"\n",
    "G = generate_random_graph(num_nodes, num_edges, graph_type)\n",
    "save_graph_to_file(G, \"syn_star.mtx\")"
   ]
  },
  {
   "cell_type": "code",
   "execution_count": 30,
   "metadata": {},
   "outputs": [],
   "source": [
    "# Set max length\n",
    "import numpy as np\n",
    "import random\n",
    "import networkx as nx\n",
    "import csrgraph as cg\n",
    "def max_random_walk_length(graph: nx.Graph, T, gamma):\n",
    "    \"\"\"Calculate the maximum length of random walks to achieve a desired ratio of invalid walks.\"\"\"\n",
    "    n = graph.number_of_nodes()\n",
    "    m = graph.number_of_edges()\n",
    "    d = np.array([deg for node, deg in dict(graph.degree()).items() if node != list(T)[0]])\n",
    "    d_norm = np.linalg.norm(d)\n",
    "\n",
    "    A = nx.to_numpy_array(graph)\n",
    "    A = np.delete(A, list(T)[0], axis=0)\n",
    "    A = np.delete(A, list(T)[0], axis=1)\n",
    "\n",
    "    spectral_radius = max(abs(np.linalg.eigvals(A)))\n",
    "\n",
    "    max_length = int((np.log(m * gamma / (np.sqrt(n - 1))) * d_norm / np.log(spectral_radius)))\n",
    "    return max_length\n",
    "\n",
    "def random_walk(csr_graph, start_node, max_length, target_set):\n",
    "    \"\"\"\n",
    "    Perform a random walk on a CSR graph.\n",
    "    \n",
    "    Parameters:\n",
    "        csr_graph (cg.csrgraph): The csrgraph object.\n",
    "        start_node (int): The starting node of the random walk.\n",
    "        max_length (int): Maximum length of the walk.\n",
    "        target_set (set): A set of target nodes that stops the walk when reached.\n",
    "\n",
    "    Returns:\n",
    "        tuple: The path of nodes visited in the walk and the final position.\n",
    "    \"\"\"\n",
    "    walk = [start_node]\n",
    "    current_node = start_node\n",
    "    position = 0\n",
    "    \n",
    "    # Access the CSR matrix directly\n",
    "    csr_matrix = csr_graph.mat\n",
    "\n",
    "    if current_node in target_set:\n",
    "        return ([start_node], position)\n",
    "    \n",
    "    for _ in range(max_length):\n",
    "        position += 1\n",
    "        \n",
    "        # Get neighbors of the current node using CSR matrix attributes\n",
    "        start_index = csr_matrix.indptr[current_node]\n",
    "        end_index = csr_matrix.indptr[current_node + 1]\n",
    "        neighbors = csr_matrix.indices[start_index:end_index]\n",
    "        \n",
    "        # Filter out nodes already in the walk to avoid revisiting\n",
    "        neighbors = list(set(neighbors) - set(walk))\n",
    "        \n",
    "        # Stop if no unvisited neighbors or if current node is in target set\n",
    "        if len(neighbors) == 0 or current_node in target_set:\n",
    "            break\n",
    "        \n",
    "        # Choose the next node randomly from available neighbors\n",
    "        next_node = random.choice(neighbors)\n",
    "        walk.append(next_node)\n",
    "        current_node = next_node\n",
    "    \n",
    "    return walk, position\n",
    "\n",
    "def effective_resistance_approximation(graph: nx.Graph, T, Q, max_length, epsilon):\n",
    "    n = len(graph)  # Number of nodes in the graph\n",
    "    rho = int(0.001 * np.log(n) / epsilon**2)  # Number of random walks for accuracy\n",
    "\n",
    "    C = np.zeros(n)  # Effective resistance approximation array\n",
    "    R = np.zeros(n)  # Effective resistance results for nodes in Q\n",
    "    W = []\n",
    "\n",
    "    # Step 2: Perform random walks for each edge\n",
    "    for (i, j) in graph.edges():\n",
    "        for _ in range(rho):\n",
    "            # Generate two random walks from endpoints of the edge\n",
    "            w1, pos1 = random_walk(graph, i, max_length, T)\n",
    "            w2, pos2 = random_walk(graph, j, max_length, T)\n",
    "            # If both walks reach the target set, combine and add to W\n",
    "            if w1[-1] in T and w2[-1] in T:\n",
    "                W.append((w1, pos1))\n",
    "                W.append((w2, pos2))\n",
    "            \n",
    "    # Step 8-12: Update C array based on the combined walks in W\n",
    "    for walk, total_length in W:\n",
    "        for u in walk:\n",
    "            if u in Q:  # Only update for nodes in Q\n",
    "                C[u] += 1 / (rho * total_length)  # Update C[u] for effective resistance\n",
    "\n",
    "    # Step 13-14: Calculate effective resistance by inverting C\n",
    "    for i, q in enumerate(Q):\n",
    "        if C[q] != 0:\n",
    "            R[i] = 1 / C[q]\n",
    "        else:\n",
    "            R[i] = np.inf  # If C[q] is 0, effective resistance is considered infinite\n",
    "\n",
    "    return R, W"
   ]
  },
  {
   "cell_type": "markdown",
   "metadata": {},
   "source": [
    "# Example"
   ]
  },
  {
   "cell_type": "code",
   "execution_count": null,
   "metadata": {},
   "outputs": [],
   "source": [
    "# Example usage\n",
    "G = nx.Graph()\n",
    "nodes = [0, 1, 2, 3]\n",
    "edges = [(0, 1), (0, 2), (0, 3), (1, 3), (2, 3)]\n",
    "G.add_nodes_from(nodes)\n",
    "G.add_edges_from(edges)\n",
    "\n",
    "# Define parameters\n",
    "T = {0}  # target node\n",
    "Q = {1, 2, 3}  # Query nodes (excluding v)\n",
    "gamma = 0.95\n",
    "max_length = max_random_walk_length(G, T, gamma) # Maximum length for random walks\n",
    "epsilon = 0.005  # Desired accuracy\n",
    "\n",
    "# Run the effective resistance approximation\n",
    "R, W = effective_resistance_approximation(G, T, Q, max_length, epsilon)\n",
    "print(\"Improved Approximate Effective Resistance:\")\n",
    "for idx, q in enumerate(Q):\n",
    "    for i in T:\n",
    "        print(f\"R_{i}{q} ≈ {R[idx]}\")"
   ]
  },
  {
   "cell_type": "markdown",
   "metadata": {},
   "source": [
    "# DELETE EDGE"
   ]
  },
  {
   "cell_type": "code",
   "execution_count": 5,
   "metadata": {},
   "outputs": [],
   "source": [
    "import networkx as nx\n",
    "import numpy as np\n",
    "\n",
    "def delete_edge(graph: nx.Graph, W, v, Q, epsilon, P=[]):\n",
    "    # List to store results for each edge removed\n",
    "    removed_edges_list = []\n",
    "    n = graph.number_of_nodes()\n",
    "    rho = int(np.log(n) / epsilon**2)  # Number of random walks for accuracy\n",
    "\n",
    "    # Iterate over each edge in the graph\n",
    "    for (x, y) in graph.edges():\n",
    "        # Create a new graph without the edge (x, y)\n",
    "        graph_without_edge = graph.copy()\n",
    "        graph_without_edge.remove_edge(x, y)\n",
    "        \n",
    "        # Check if removing the edge disconnects the graph\n",
    "        if not nx.is_connected(graph_without_edge):\n",
    "            removed_edges_list.append(((x, y), 0))\n",
    "            continue\n",
    "        \n",
    "        # Initialize effective resistance value for this edge removal\n",
    "        resistance_sum = 0\n",
    "\n",
    "        # Filter walks that contain nodes x or y\n",
    "        walks_containing_x_or_y = [(walk, total_length) for walk, total_length in W if x in walk or y in walk]\n",
    "\n",
    "        # Compute effective resistance using each walk that includes x or y\n",
    "        for walk_data in walks_containing_x_or_y:\n",
    "            if isinstance(walk_data, tuple) and len(walk_data) == 2:\n",
    "                walk, total_length = walk_data\n",
    "                for u in walk:\n",
    "                    if u in Q:\n",
    "                        # Update resistance values according to walk length and target nodes\n",
    "                        resistance_sum += n / (rho * total_length)\n",
    "        \n",
    "        # Append this edge and its resistance contribution to the result list\n",
    "        removed_edges_list.append(((x, y), resistance_sum))\n",
    "\n",
    "    return removed_edges_list"
   ]
  },
  {
   "cell_type": "markdown",
   "metadata": {},
   "source": [
    "# APPROXISC"
   ]
  },
  {
   "cell_type": "code",
   "execution_count": 6,
   "metadata": {},
   "outputs": [],
   "source": [
    "def APPROXISC(G:nx.Graph, k, v, epsilon):\n",
    "    P = {}\n",
    "    T = {v}\n",
    "    Q = G.copy(G)\n",
    "    Q.remove_node(v)\n",
    "    gamma = 0.95\n",
    "    for i in range(k):\n",
    "        max_length = max_random_walk_length(G, T, gamma) # Maximum length for random walks\n",
    "        R, W = effective_resistance_approximation(G, T, Q, max_length, epsilon)\n",
    "        removed_edges_list = delete_edge(G, W, v, Q, epsilon)\n",
    "        arg_max = max(removed_edges_list)\n",
    "        P[i] = arg_max[0]\n",
    "        G.remove_edge(arg_max[0][0], arg_max[0][1])\n",
    "    return P"
   ]
  },
  {
   "cell_type": "markdown",
   "metadata": {},
   "source": [
    "# Example"
   ]
  },
  {
   "cell_type": "code",
   "execution_count": 7,
   "metadata": {},
   "outputs": [],
   "source": [
    "G = nx.Graph()\n",
    "nodes = [0, 1, 2, 3, 4]\n",
    "edges = [(0, 2), (4, 2), (1, 2), (1, 3), (2, 3), (1, 4)]\n",
    "G.add_nodes_from(nodes)\n",
    "G.add_edges_from(edges)\n",
    "# Parameters\n",
    "k = 2  # Need remove edges\n",
    "v = 2  # Starting node in T\n",
    "epsilon = 0.05  # Epsilon parameter\n",
    "P = APPROXISC(G, k, v, epsilon)"
   ]
  },
  {
   "cell_type": "code",
   "execution_count": 8,
   "metadata": {},
   "outputs": [
    {
     "name": "stdout",
     "output_type": "stream",
     "text": [
      "Top-k edges need to remove {0: (2, 4), 1: (2, 3)}\n"
     ]
    }
   ],
   "source": [
    "print(f\"Top-k edges need to remove {P}\")"
   ]
  },
  {
   "cell_type": "markdown",
   "metadata": {},
   "source": [
    "# Input Data"
   ]
  },
  {
   "cell_type": "code",
   "execution_count": 23,
   "metadata": {},
   "outputs": [
    {
     "name": "stdout",
     "output_type": "stream",
     "text": [
      "CSR graph initialized: <csrgraph.graph.csrgraph object at 0x000001F5D5801BB0>\n"
     ]
    }
   ],
   "source": [
    "import scipy.sparse as sp\n",
    "# Initialize an empty list to store the tuples\n",
    "result = []\n",
    "# Open and read the file\n",
    "with open('./hamster.mtx', 'r') as file:\n",
    "    for line in file:\n",
    "        # Split each line into two integers\n",
    "        a, b = map(int, line.split())\n",
    "        \n",
    "        # Adjust to 0-based indexing and create the tuple\n",
    "        result.append((a - 1, b - 1))\n",
    "\n",
    "# Input to graph\n",
    "G = nx.Graph()\n",
    "G.add_edges_from(result)\n",
    "adj_matrix = sp.csr_matrix(nx.adjacency_matrix(G))\n",
    "# Use the CSR matrix with cg.csrgraph\n",
    "graph_csr = cg.csrgraph(adj_matrix)\n",
    "\n",
    "# Optional: Print to verify\n",
    "print(\"CSR graph initialized:\", graph_csr)"
   ]
  },
  {
   "cell_type": "code",
   "execution_count": 27,
   "metadata": {},
   "outputs": [
    {
     "name": "stdout",
     "output_type": "stream",
     "text": [
      "Random walk path: [0, np.int32(9), np.int32(17), np.int32(15), np.int32(2), np.int32(43), np.int32(606), np.int32(325), np.int32(319), np.int32(469), np.int32(670), np.int32(469), np.int32(400), np.int32(463), np.int32(479), np.int32(56), np.int32(1065), np.int32(38), np.int32(39), np.int32(729), np.int32(1137), np.int32(1197), np.int32(817), np.int32(1582), np.int32(1579), np.int32(1583), np.int32(820), np.int32(1580), np.int32(10)]\n"
     ]
    }
   ],
   "source": [
    "import csrgraph as cg\n",
    "import numpy as np\n",
    "\n",
    "def random_walk_to_target(csr_graph, start_node, target_node, max_steps=100):\n",
    "    current_node = start_node\n",
    "    path = [current_node]\n",
    "    csr_matrix = csr_graph.mat  # Access the CSR matrix directly\n",
    "\n",
    "    for _ in range(max_steps):\n",
    "        # Check if we have reached the target node\n",
    "        if current_node == target_node:\n",
    "            break\n",
    "\n",
    "        # Get neighbors of the current node using CSR matrix attributes\n",
    "        start_index = csr_matrix.indptr[current_node]\n",
    "        end_index = csr_matrix.indptr[current_node + 1]\n",
    "        neighbors = csr_matrix.indices[start_index:end_index]\n",
    "\n",
    "        # If no neighbors, stop the walk\n",
    "        if len(neighbors) == 0:\n",
    "            break\n",
    "\n",
    "        # Randomly select the next node from neighbors\n",
    "        current_node = np.random.choice(neighbors)\n",
    "        path.append(current_node)\n",
    "\n",
    "    return path\n",
    "\n",
    "# Example usage\n",
    "# Initialize the graph from your adjacency matrix (assuming `adj_matrix` is ready)\n",
    "csr_graph = cg.csrgraph(adj_matrix)\n",
    "\n",
    "# Define the start and target nodes\n",
    "start_node = 0      # Adjust to the desired starting node\n",
    "target_node = 10    # Adjust to the desired target node\n",
    "\n",
    "# Run the random walk\n",
    "path = random_walk_to_target(csr_graph, start_node, target_node)\n",
    "print(\"Random walk path:\", path)\n"
   ]
  },
  {
   "cell_type": "code",
   "execution_count": 29,
   "metadata": {},
   "outputs": [
    {
     "data": {
      "text/plain": [
       "array([[0, 1, 1, ..., 0, 0, 0],\n",
       "       [1, 0, 1, ..., 0, 0, 0],\n",
       "       [1, 1, 0, ..., 0, 0, 0],\n",
       "       ...,\n",
       "       [0, 0, 0, ..., 0, 0, 0],\n",
       "       [0, 0, 0, ..., 0, 0, 1],\n",
       "       [0, 0, 0, ..., 0, 1, 0]])"
      ]
     },
     "execution_count": 29,
     "metadata": {},
     "output_type": "execute_result"
    }
   ],
   "source": [
    "adj_matrix.toarray()"
   ]
  },
  {
   "cell_type": "code",
   "execution_count": null,
   "metadata": {},
   "outputs": [],
   "source": [
    "P = APPROXISC(G, k, v, epsilon)"
   ]
  },
  {
   "cell_type": "code",
   "execution_count": 11,
   "metadata": {},
   "outputs": [
    {
     "name": "stdout",
     "output_type": "stream",
     "text": [
      "Top-k edges need to remove {0: (103, 104), 1: (102, 95)}\n"
     ]
    }
   ],
   "source": [
    "print(f\"Top-k edges need to remove {P}\")"
   ]
  }
 ],
 "metadata": {
  "kernelspec": {
   "display_name": "graph",
   "language": "python",
   "name": "python3"
  },
  "language_info": {
   "codemirror_mode": {
    "name": "ipython",
    "version": 3
   },
   "file_extension": ".py",
   "mimetype": "text/x-python",
   "name": "python",
   "nbconvert_exporter": "python",
   "pygments_lexer": "ipython3",
   "version": "3.9.20"
  }
 },
 "nbformat": 4,
 "nbformat_minor": 2
}
