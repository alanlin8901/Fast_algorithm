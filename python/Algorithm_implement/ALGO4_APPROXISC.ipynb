{
 "cells": [
  {
   "cell_type": "code",
   "execution_count": 2,
   "metadata": {},
   "outputs": [
    {
     "name": "stdout",
     "output_type": "stream",
     "text": [
      "Effective Resistance Array: {1: 7.851500417932217, 3: 9.675127711454744, 2: 6.752408225253967, 4: 9.660368063772891}\n"
     ]
    }
   ],
   "source": [
    "import networkx as nx\n",
    "import random\n",
    "from collections import defaultdict\n",
    "\n",
    "def l_truncated_random_walk(graph, start, target, max_length):\n",
    "    \"\"\"Generate an l-truncated random walk from 'start' until it reaches 'target' or 'max_length',\n",
    "    without revisiting nodes in the same walk.\"\"\"\n",
    "    path = [start]\n",
    "    current = start\n",
    "    visited = set([start])  # Track visited nodes to avoid revisiting\n",
    "\n",
    "    for _ in range(max_length - 1):  # Walk up to max_length steps\n",
    "        if current == target:  # Stop if the target node is reached\n",
    "            break\n",
    "        neighbors = [n for n in graph.neighbors(current) if n not in visited]  # Avoid revisiting nodes\n",
    "        if not neighbors:  # If no unvisited neighbors are left, stop the walk\n",
    "            break\n",
    "        current = random.choice(neighbors)  # Randomly pick the next unvisited node\n",
    "        path.append(current)\n",
    "        visited.add(current)  # Mark the node as visited\n",
    "\n",
    "    return path\n",
    "\n",
    "def INITIALIZATION(graph, v, Q, l, epsilon):\n",
    "    \"\"\"Implementation of Algorithm 2 using l-truncated random walks with NetworkX.\"\"\"\n",
    "    n = len(graph)\n",
    "    rho = int((n * (epsilon ** -2)) * (1 / l))  # Estimate of rho\n",
    "    C = defaultdict(float)  # Store contributions per node\n",
    "    R = {}  # Effective resistance array\n",
    "    T = {v}  # Target node set containing only 'v'\n",
    "    W = []  # Collection of walks\n",
    "\n",
    "    # Step 2: Generate walks for each edge multiple times\n",
    "    for (i, j) in graph.edges():\n",
    "        if v not in(i, j):\n",
    "            for _ in range(rho):\n",
    "                # Generate two l-truncated random walks from the edge endpoints\n",
    "                w1 = l_truncated_random_walk(graph, i, v, l)  # Walk from i\n",
    "                w2 = l_truncated_random_walk(graph, j, v, l)  # Walk from j\n",
    "                # Only combine walks if both reach the target node v\n",
    "                if w1[-1] == v and w2[-1] == v:\n",
    "                    # Combine walks (reverse the second to connect properly)\n",
    "                    \n",
    "                    combined_walk = w1 + w2[::-1][1:]\n",
    "                    W.append(combined_walk)\n",
    "\n",
    "    # Step 3: Process each walk and update contributions\n",
    "    for walk in W:\n",
    "        visited = set()  # Track nodes encountered for the first time\n",
    "        for p, u in enumerate(walk):\n",
    "            if u not in visited and u in Q:  # Only update if u is in Q\n",
    "                visited.add(u)\n",
    "                # Compute distance from u to the closest endpoint (either start or v)\n",
    "                length = len(walk)\n",
    "                # Update contribution for node u\n",
    "                C[u] += 1 / (rho * length + 1)\n",
    "\n",
    "    # Step 4: Compute effective resistance array R\n",
    "    for u in C:\n",
    "        R[u] = 1 / C[u]\n",
    "\n",
    "    return R, W\n",
    "# Create your graph using NetworkX\n",
    "G = nx.Graph()\n",
    "nodes = [0, 1, 2, 3, 4]\n",
    "edges = [(0, 2), (4, 2), (1, 2), (1, 3), (2, 3), (1, 4)]\n",
    "G.add_nodes_from(nodes)\n",
    "G.add_edges_from(edges)\n",
    "\n",
    "v = 0  # Target node\n",
    "Q = {1, 2, 3, 4}  # Subset of nodes of interest\n",
    "l = 5  # Maximum walk length\n",
    "epsilon = 0.005  # Error parameter\n",
    "\n",
    "R, W = INITIALIZATION(G, v, Q, l, epsilon)\n",
    "print(\"Effective Resistance Array:\", R)"
   ]
  },
  {
   "cell_type": "code",
   "execution_count": 12,
   "metadata": {},
   "outputs": [
    {
     "name": "stdout",
     "output_type": "stream",
     "text": [
      "Effective Resistances: {(0, 2): 0, (1, 2): 2.0850575774351657e-05, (1, 3): 2.855226043458345e-05, (1, 4): 3.102372342512523e-05, (2, 4): 2.4726676844559776e-05, (2, 3): 2.3137023082314948e-05}\n"
     ]
    }
   ],
   "source": [
    "import networkx as nx\n",
    "from collections import defaultdict\n",
    "\n",
    "def DELETEEDGE(G:nx.Graph, W, v, Q, P):\n",
    "    \"\"\"Implements Algorithm 3: DELETEEDGE for computing edge removal and updating effective resistances.\"\"\"\n",
    "    n = G.number_of_nodes\n",
    "    # Step 1: Create a node-walk map to identify walks where nodes appear\n",
    "    node_walk_map = defaultdict(list)  # Maps nodes to the walks they appear in\n",
    "    for walk in W:\n",
    "        for node in walk:\n",
    "            node_walk_map[node].append(tuple(walk))  # Use tuple to store the walk\n",
    "\n",
    "    # Step 2: Initialize result dictionary for edge resistances\n",
    "    R_v = {}  # Store effective resistance values for edges\n",
    "\n",
    "    # Step 3: Iterate over all edges in the graph\n",
    "    for (x, y) in G.edges():\n",
    "        # Get the list of walks where either x or y appears\n",
    "        W_tilde = node_walk_map[x] + node_walk_map[y]  # Concatenate lists of walks\n",
    "\n",
    "        # Initialize edge weight updates for H_u\n",
    "        edge_weights = defaultdict(float)  # Maps nodes u to updated weights\n",
    "\n",
    "        # Process each walk in W_tilde\n",
    "        for walk in W_tilde:\n",
    "            for u in set(walk) & Q:  # Only consider u in both walk and Q\n",
    "                T = {u, v, x, y}  # Node set including u, v, x, and y\n",
    "                # Update the weight for u (increment by 1 for simplicity)\n",
    "                edge_weights[u] += 1\n",
    "\n",
    "        # Step 5: Check if removing the edge disconnects the graph\n",
    "        G_temp = G.copy()\n",
    "        G_temp.remove_edge(x, y)\n",
    "        if not nx.is_connected(G_temp):\n",
    "            R_v[(x, y)] = 0  # Set effective resistance to 0 if disconnected\n",
    "        else:\n",
    "            # If still connected, compute the effective resistance\n",
    "            R_v[(x, y)] = sum(1 / edge_weights[u] for u in Q if edge_weights[u] > 0)\n",
    "\n",
    "    return R_v # Return the resistance values\n",
    "\n",
    "# Example usage of the delete_edge function\n",
    "G = nx.Graph()\n",
    "nodes = [0, 1, 2, 3, 4]\n",
    "edges = [(0, 2), (4, 2), (1, 2), (1, 3), (2, 3), (1, 4)]\n",
    "G.add_nodes_from(nodes)\n",
    "G.add_edges_from(edges)\n",
    "\n",
    "# Example random walks (W) collected\n",
    "\n",
    "v = 2  # Target node\n",
    "Q = {1, 3}  # Nodes of interest\n",
    "P = set()  # Initially no removed edges\n",
    "\n",
    "# Compute the effective resistances after processing edges\n",
    "R_v = DELETEEDGE(G, W, v, Q, P)\n",
    "print(\"Effective Resistances:\", R_v)\n"
   ]
  },
  {
   "cell_type": "code",
   "execution_count": 4,
   "metadata": {},
   "outputs": [
    {
     "name": "stdout",
     "output_type": "stream",
     "text": [
      "Effective Resistances: {(0, 2): 0, (1, 2): 2.0850575774351657e-05, (1, 3): 2.855226043458345e-05, (1, 4): 3.102372342512523e-05, (2, 4): 2.4726676844559776e-05, (2, 3): 2.3137023082314948e-05}\n"
     ]
    }
   ],
   "source": [
    "# Example usage of the delete_edge function\n",
    "G = nx.Graph()\n",
    "nodes = [0, 1, 2, 3, 4]\n",
    "edges = [(0, 2), (4, 2), (1, 2), (1, 3), (2, 3), (1, 4)]\n",
    "G.add_nodes_from(nodes)\n",
    "G.add_edges_from(edges)\n",
    "\n",
    "# Example random walks (W) collected\n",
    "\n",
    "v = 2  # Target node\n",
    "Q = {1, 3}  # Nodes of interest\n",
    "P = set()  # Initially no removed edges\n",
    "\n",
    "# Compute the effective resistances after processing edges\n",
    "R_v = DELETEEDGE(G, W, v, Q, P)\n",
    "print(\"Effective Resistances:\", R_v)"
   ]
  },
  {
   "cell_type": "markdown",
   "metadata": {},
   "source": [
    "# Algorithm 4 approxisc"
   ]
  },
  {
   "cell_type": "code",
   "execution_count": null,
   "metadata": {},
   "outputs": [],
   "source": [
    "def APPROXISC(G: nx.Graph, k, v, l, epsilon):\n",
    "    P = {}\n",
    "    for i in range(k):\n",
    "        R, W = INITIALIZATION(G, v, Q, l, epsilon)\n",
    "        R_v = DELETEEDGE(G, W, v, Q, P)\n",
    "        arg_max = max(R_v)\n",
    "        P[i] = arg_max\n",
    "        G.remove_edges_from([arg_max])\n",
    "    return P\n",
    "# Example usage of the delete_edge function\n",
    "G = nx.Graph()\n",
    "nodes = [0, 1, 2, 3, 4]\n",
    "edges = [(0, 2), (4, 2), (1, 2), (1, 3), (2, 3), (1, 4)]\n",
    "G.add_nodes_from(nodes)\n",
    "G.add_edges_from(edges)\n",
    "k = 2\n",
    "v = 2\n",
    "l = 5\n",
    "epsilon = 0.005\n",
    "P = APPROXISC(G, k, v, l, epsilon)\n",
    "print(f\"Top-k edges need to remove {P}\")"
   ]
  },
  {
   "cell_type": "markdown",
   "metadata": {},
   "source": [
    "# FASTICM"
   ]
  },
  {
   "cell_type": "code",
   "execution_count": 78,
   "metadata": {},
   "outputs": [],
   "source": [
    "import math\n",
    "def FASTICM(G: nx.Graph, k, v, l, alpha, phi):\n",
    "    P = {}\n",
    "    beta = alpha / 2\n",
    "    epsilon = alpha / (2 * phi)\n",
    "    n = len(G.nodes())\n",
    "    t = phi * pow(n * math.log(n), 0.5) / beta\n",
    "    t = (n - 1 ) if t >= n else t\n",
    "    V_dt = set(random.sample(list(G.nodes()), int(t)))\n",
    "    R, W = INITIALIZATION(G, v, V_dt, l, epsilon)\n",
    "    for i in range(k):\n",
    "        R_v = DELETEEDGE(G, W, v, V_dt, P)\n",
    "        arg_max = max(R_v)\n",
    "        P[i] = arg_max\n",
    "        G.remove_edges_from([arg_max])\n",
    "    return P"
   ]
  },
  {
   "cell_type": "code",
   "execution_count": 79,
   "metadata": {},
   "outputs": [
    {
     "name": "stdout",
     "output_type": "stream",
     "text": [
      "Top-k edges need to remove {0: (2, 4), 1: (2, 3)}\n"
     ]
    }
   ],
   "source": [
    "# Example usage of the delete_edge function\n",
    "G = nx.Graph()\n",
    "nodes = [0, 1, 2, 3, 4]\n",
    "edges = [(0, 2), (4, 2), (1, 2), (1, 3), (2, 3), (1, 4)]\n",
    "G.add_nodes_from(nodes)\n",
    "G.add_edges_from(edges)\n",
    "k = 2\n",
    "v = 0\n",
    "l = 5\n",
    "alpha = 0.05\n",
    "phi = 5\n",
    "P = FASTICM(G, k, v, l, alpha, phi)\n",
    "print(f\"Top-k edges need to remove {P}\")"
   ]
  },
  {
   "cell_type": "code",
   "execution_count": null,
   "metadata": {},
   "outputs": [],
   "source": []
  }
 ],
 "metadata": {
  "kernelspec": {
   "display_name": "Python 3",
   "language": "python",
   "name": "python3"
  },
  "language_info": {
   "codemirror_mode": {
    "name": "ipython",
    "version": 3
   },
   "file_extension": ".py",
   "mimetype": "text/x-python",
   "name": "python",
   "nbconvert_exporter": "python",
   "pygments_lexer": "ipython3",
   "version": "3.11.10"
  }
 },
 "nbformat": 4,
 "nbformat_minor": 2
}
