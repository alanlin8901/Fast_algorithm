{
 "cells": [
  {
   "cell_type": "markdown",
   "metadata": {},
   "source": [
    "## Test result"
   ]
  },
  {
   "cell_type": "code",
   "execution_count": null,
   "metadata": {},
   "outputs": [],
   "source": [
    "#  This is the paper's estimation of information centrality.\n",
    "import networkx as nx\n",
    "import numpy as np\n",
    "def compute_information_centrality_by_Laplacian(G: nx.Graph, node):\n",
    "    L = nx.laplacian_matrix(G).toarray()\n",
    "    n = G.number_of_nodes()\n",
    "    L_dagger = np.linalg.pinv(L)\n",
    "    effective_resistance_of_node = n * L_dagger[node][node] + np.trace(L_dagger)\n",
    "    information_centrality = n / effective_resistance_of_node\n",
    "    return information_centrality"
   ]
  },
  {
   "cell_type": "markdown",
   "metadata": {},
   "source": [
    "## Modify here\n",
    "Make sure your target nodes maximum number is less than graph maximum number"
   ]
  },
  {
   "cell_type": "code",
   "execution_count": 26,
   "metadata": {},
   "outputs": [],
   "source": [
    "filename = \"../data/karate.mtx\"\n",
    "target_nodes = [15, 20, 12]\n",
    "edges_to_remove = [\n",
    "  [(15, 33), (15, 34), (21, 33), (21, 34), (34, 9), (34, 10), (34, 16), (34, 23), (34, 31), (34, 33)],\n",
    "  [(27, 30), (27, 34), (28, 3), (28, 34), (4, 1), (4, 2), (4, 3), (1, 2), (1, 3), (1, 7)],\n",
    "  [(27, 34), (25, 26), (25, 28), (24, 26), (24, 28), (24, 34), (34, 15), (34, 16), (34, 19), (34, 20)],\n",
    "  [(27, 30), (27, 34), (15, 34), (6, 1), (6, 17), (9, 1), (9, 31), (9, 34), (2, 1), (2, 31)],\n",
    "  [(23, 33), (23, 34), (10, 34), (17, 6), (17, 7), (6, 7), (33, 15), (33, 31), (33, 34), (31, 2)],\n",
    "  [(27, 30), (27, 34), (16, 33), (16, 34), (18, 1), (9, 1), (9, 3), (9, 33), (9, 34), (3, 1)],\n",
    "  [(28, 34), (21, 33), (21, 34), (34, 9), (34, 14), (34, 20), (34, 27), (34, 30), (34, 33), (9, 33)],\n",
    "  [(26, 32), (34, 9), (34, 16), (34, 30), (34, 32), (6, 17), (9, 3), (22, 2), (2, 3), (0, 0)]\n",
    "]"
   ]
  },
  {
   "cell_type": "code",
   "execution_count": 27,
   "metadata": {},
   "outputs": [
    {
     "name": "stdout",
     "output_type": "stream",
     "text": [
      "Before remove edges of information centrality average of target nodes: 1.31\n",
      "After remove edges of information centrality average of target nodes: 0.80\n"
     ]
    }
   ],
   "source": [
    "# Consider to give a graph\n",
    "# e.g.: karate, polbooks, hamsterster, ca-GrQc\n",
    "with open(filename, 'r') as file:\n",
    "    edges = [(int(a) - 1, int(b) - 1) for a, b in (line.split() for line in file)]\n",
    "G = nx.from_edgelist(np.array(edges))\n",
    "# Parameters\n",
    "number_of_target_nodes = len(target_nodes)\n",
    "information_centrality_of_target_nodes = 0\n",
    "for i in target_nodes:\n",
    "    initial_centrality = compute_information_centrality_by_Laplacian(G, i)\n",
    "    information_centrality_of_target_nodes += initial_centrality\n",
    "print(f\"Before remove edges of information centrality average of target nodes: {information_centrality_of_target_nodes/number_of_target_nodes:.2f}\")\n",
    "# Parameters\n",
    "for i in range(len(edges_to_remove)):\n",
    "    information_centrality_of_target_nodes = 0\n",
    "    list_of_edges = edges_to_remove[i]\n",
    "    G.remove_edges_from(list_of_edges)\n",
    "    number_of_target_nodes = len(target_nodes)\n",
    "    for i in target_nodes:\n",
    "        initial_centrality = compute_information_centrality_by_Laplacian(G, i)\n",
    "        information_centrality_of_target_nodes += initial_centrality\n",
    "    G.add_edges_from(list_of_edges)\n",
    "print(f\"After remove edges of information centrality average of target nodes: {information_centrality_of_target_nodes/len(edges_to_remove):.2f}\")"
   ]
  }
 ],
 "metadata": {
  "kernelspec": {
   "display_name": "graph",
   "language": "python",
   "name": "python3"
  },
  "language_info": {
   "codemirror_mode": {
    "name": "ipython",
    "version": 3
   },
   "file_extension": ".py",
   "mimetype": "text/x-python",
   "name": "python",
   "nbconvert_exporter": "python",
   "pygments_lexer": "ipython3",
   "version": "3.9.20"
  }
 },
 "nbformat": 4,
 "nbformat_minor": 2
}
