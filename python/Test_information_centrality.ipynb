{
 "cells": [
  {
   "cell_type": "markdown",
   "metadata": {},
   "source": [
    "## Test result"
   ]
  },
  {
   "cell_type": "code",
   "execution_count": 19,
   "metadata": {},
   "outputs": [],
   "source": [
    "#  This is the paper's estimation of information centrality.\n",
    "import networkx as nx\n",
    "import numpy as np\n",
    "def compute_information_centrality_by_Laplacian(G: nx.Graph, node):\n",
    "    L = nx.laplacian_matrix(G).toarray()\n",
    "    n = G.number_of_nodes()\n",
    "    L_dagger = np.linalg.pinv(L)\n",
    "    effective_resistance_of_node = n * L_dagger[node][node] + np.trace(L_dagger)\n",
    "    information_centrality = n / effective_resistance_of_node\n",
    "    return information_centrality"
   ]
  },
  {
   "cell_type": "markdown",
   "metadata": {},
   "source": [
    "## Modify here\n",
    "Make sure your target nodes maximum number is less than graph maximum number"
   ]
  },
  {
   "cell_type": "code",
   "execution_count": null,
   "metadata": {},
   "outputs": [],
   "source": [
    "# Modify here\n",
    "data_name = \"hamster\""
   ]
  },
  {
   "cell_type": "code",
   "execution_count": 21,
   "metadata": {},
   "outputs": [
    {
     "name": "stdout",
     "output_type": "stream",
     "text": [
      "Information of target nodes when remove edges from ../result/wiki-VoteEXACTSM_result.txt\n",
      "Before remove edges of information centrality average of target nodes: 1.33\n",
      "After remove edges of information centrality average of target nodes: 1.30\n",
      "\n",
      "Information of target nodes when remove edges from ../result/wiki-VoteAPPROXISC_result.txt\n",
      "Before remove edges of information centrality average of target nodes: 1.33\n",
      "After remove edges of information centrality average of target nodes: 1.30\n",
      "\n",
      "Information of target nodes when remove edges from ../result/wiki-VoteFASTICM_result.txt\n",
      "Before remove edges of information centrality average of target nodes: 1.33\n",
      "After remove edges of information centrality average of target nodes: 1.30\n",
      "\n"
     ]
    }
   ],
   "source": [
    "# Define folder's name\n",
    "result_folder = \"../result/\"\n",
    "data_folder = \"../data/\"\n",
    "filenames = [\n",
    "    #f\"{result_folder}{data_name}OPTIMUM_result.txt\",\n",
    "    f\"{result_folder}{data_name}EXACTSM_result.txt\",\n",
    "    f\"{result_folder}{data_name}APPROXISC_result.txt\",\n",
    "    f\"{result_folder}{data_name}FASTICM_result.txt\",\n",
    "]\n",
    "input_file = f\"{data_folder}{data_name}.mtx\"\n",
    "target_nodes = []\n",
    "edges_to_remove = []\n",
    "with open(input_file, 'r') as file:\n",
    "    edges = [(int(a) - 1, int(b) - 1) for a, b in (line.split() for line in file)]\n",
    "G = nx.Graph()\n",
    "G.add_edges_from(edges)\n",
    "for filename in filenames:\n",
    "    with open(filename, \"r\") as file:\n",
    "        lines = file.readlines()\n",
    "    for line in lines:\n",
    "        if line.startswith(\"Target nodes:\"):\n",
    "            target_nodes = eval(line.split(\":\", 1)[1].strip())\n",
    "        elif line.startswith(\"Edges to remove per target node:\"):\n",
    "            edge_list = eval(\"\".join(lines[lines.index(line) + 1:]).strip())\n",
    "            edges_to_remove = edge_list\n",
    "    # Parameters\n",
    "    information_centrality_of_target_nodes = 0\n",
    "    print(f\"Information of target nodes when remove edges from {filename}\")\n",
    "    for i in target_nodes:\n",
    "        initial_centrality = compute_information_centrality_by_Laplacian(G, i-1)\n",
    "        information_centrality_of_target_nodes += initial_centrality\n",
    "    print(f\"Before remove edges of information centrality average of target nodes: {information_centrality_of_target_nodes/len(target_nodes):.2f}\")\n",
    "    # Parameters\n",
    "    information_centrality_of_target_nodes = 0\n",
    "    for i in range(len(edges_to_remove)):\n",
    "        list_of_edges = edges_to_remove[i]\n",
    "        G.remove_edges_from(np.array(list_of_edges))\n",
    "        initial_centrality = compute_information_centrality_by_Laplacian(G, target_nodes[i]-1)\n",
    "        information_centrality_of_target_nodes += initial_centrality\n",
    "        G.add_edges_from(list_of_edges)\n",
    "        # print(G.number_of_edges())\n",
    "    print(f\"After remove edges of information centrality average of target nodes: {information_centrality_of_target_nodes/len(target_nodes):.2f}\\n\")"
   ]
  }
 ],
 "metadata": {
  "kernelspec": {
   "display_name": "Python 3",
   "language": "python",
   "name": "python3"
  },
  "language_info": {
   "codemirror_mode": {
    "name": "ipython",
    "version": 3
   },
   "file_extension": ".py",
   "mimetype": "text/x-python",
   "name": "python",
   "nbconvert_exporter": "python",
   "pygments_lexer": "ipython3",
   "version": "3.9.20"
  }
 },
 "nbformat": 4,
 "nbformat_minor": 2
}
