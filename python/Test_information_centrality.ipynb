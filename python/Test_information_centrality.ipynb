{
 "cells": [
  {
   "cell_type": "markdown",
   "metadata": {},
   "source": [
    "## Test result"
   ]
  },
  {
   "cell_type": "code",
   "execution_count": 3,
   "metadata": {},
   "outputs": [],
   "source": [
    "#  This is the paper's estimation of information centrality.\n",
    "import networkx as nx\n",
    "import numpy as np\n",
    "def compute_information_centrality_by_Laplacian(G: nx.Graph, node):\n",
    "    L = nx.laplacian_matrix(G).toarray()\n",
    "    n = G.number_of_nodes()\n",
    "    L_dagger = np.linalg.pinv(L)\n",
    "    effective_resistance_of_node = n * L_dagger[node][node] + np.trace(L_dagger)\n",
    "    information_centrality = n / effective_resistance_of_node\n",
    "    return information_centrality"
   ]
  },
  {
   "cell_type": "markdown",
   "metadata": {},
   "source": [
    "## Modify here\n",
    "Make sure your target nodes maximum number is less than graph maximum number"
   ]
  },
  {
   "cell_type": "code",
   "execution_count": 1,
   "metadata": {},
   "outputs": [],
   "source": [
    "filename = \"../data/karate.mtx\"\n",
    "target_nodes = [1, 21, 8, 9, 22]\n",
    "edges_to_remove = [\n",
    "  [(1, 2), (4, 1), (3, 1), (27, 30), (2, 31), (9, 1), (5, 1), (7, 1), (32, 1), (7, 5)],\n",
    "  [(27, 30), (27, 34), (25, 26), (25, 28), (25, 32), (30, 24), (30, 33), (30, 34), (7, 1), (1, 2)],\n",
    "  [(7, 1), (1, 2), (3, 2), (2, 31), (33, 3), (9, 33), (9, 3), (3, 1), (34, 14), (14, 1)],\n",
    "  [(6, 1), (4, 3), (7, 1), (9, 3), (3, 1), (1, 20), (24, 34), (34, 14), (33, 3), (2, 31)],\n",
    "  [(27, 30), (27, 34), (25, 26), (25, 28), (25, 32), (30, 24), (30, 33), (30, 34), (24, 26), (24, 28)]\n",
    "]\n"
   ]
  },
  {
   "cell_type": "code",
   "execution_count": 4,
   "metadata": {},
   "outputs": [
    {
     "name": "stdout",
     "output_type": "stream",
     "text": [
      "Before remove edges of information centrality average of target nodes: 1.48\n",
      "After remove edges of information centrality average of target nodes: 1.74\n"
     ]
    }
   ],
   "source": [
    "# Consider to give a graph\n",
    "# e.g.: karate, polbooks, hamsterster, ca-GrQc\n",
    "with open(filename, 'r') as file:\n",
    "    edges = [(int(a) - 1, int(b) - 1) for a, b in (line.split() for line in file)]\n",
    "G = nx.from_edgelist(np.array(edges))\n",
    "# Parameters\n",
    "number_of_target_nodes = len(target_nodes)\n",
    "information_centrality_of_target_nodes = 0\n",
    "for i in target_nodes:\n",
    "    initial_centrality = compute_information_centrality_by_Laplacian(G, i)\n",
    "    information_centrality_of_target_nodes += initial_centrality\n",
    "print(f\"Before remove edges of information centrality average of target nodes: {information_centrality_of_target_nodes/number_of_target_nodes:.2f}\")\n",
    "# Parameters\n",
    "for i in range(len(edges_to_remove)):\n",
    "    information_centrality_of_target_nodes = 0\n",
    "    list_of_edges = edges_to_remove[i]\n",
    "    G.remove_edges_from(list_of_edges)\n",
    "    number_of_target_nodes = len(target_nodes)\n",
    "    for i in target_nodes:\n",
    "        initial_centrality = compute_information_centrality_by_Laplacian(G, i)\n",
    "        information_centrality_of_target_nodes += initial_centrality\n",
    "    G.add_edges_from(list_of_edges)\n",
    "print(f\"After remove edges of information centrality average of target nodes: {information_centrality_of_target_nodes/len(edges_to_remove):.2f}\")"
   ]
  }
 ],
 "metadata": {
  "kernelspec": {
   "display_name": "Python 3",
   "language": "python",
   "name": "python3"
  },
  "language_info": {
   "codemirror_mode": {
    "name": "ipython",
    "version": 3
   },
   "file_extension": ".py",
   "mimetype": "text/x-python",
   "name": "python",
   "nbconvert_exporter": "python",
   "pygments_lexer": "ipython3",
   "version": "3.9.20"
  }
 },
 "nbformat": 4,
 "nbformat_minor": 2
}
